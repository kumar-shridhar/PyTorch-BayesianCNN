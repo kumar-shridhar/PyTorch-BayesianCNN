{
 "cells": [
  {
   "cell_type": "code",
   "execution_count": 77,
   "id": "0562f770-6e6e-412c-86e2-747ec0da5197",
   "metadata": {},
   "outputs": [],
   "source": [
    "from __future__ import print_function\n",
    "import argparse\n",
    "from math import log10\n",
    "\n",
    "import matplotlib.pyplot as plt\n",
    "import os\n",
    "import torch\n",
    "import torch.nn as nn\n",
    "import torch.optim as optim\n",
    "from torch.utils.data import DataLoader\n",
    "import pandas as pd\n",
    "from collections import defaultdict"
   ]
  },
  {
   "cell_type": "code",
   "execution_count": 78,
   "id": "133dd6d4-e8fe-40c1-84c7-d7c211701902",
   "metadata": {},
   "outputs": [],
   "source": [
    "from super_resolution.model import Net, BayesianNet\n",
    "from super_resolution.data import get_training_set, get_test_set"
   ]
  },
  {
   "cell_type": "code",
   "execution_count": 79,
   "id": "77d59b92-83e5-4eda-bac7-f4b1d487d89b",
   "metadata": {},
   "outputs": [],
   "source": [
    "#upscale_factor = 3\n",
    "\n",
    "class store:\n",
    "    def __init__(self, up, b, t, n, l, th, se, ds):\n",
    "        self.upscale_factor = up\n",
    "        self.batchSize = b\n",
    "        self.testBatchSize = t\n",
    "        self.nEpochs = n\n",
    "        self.lr = l\n",
    "        self.threads = th\n",
    "        self.seed = se\n",
    "        self.dataset = ds\n",
    "        \n",
    "upscale_factor = 3\n",
    "batchSize = 4\n",
    "testBatchSize = 100\n",
    "\n",
    "#nEpochs = 2\n",
    "nEpochs = 1\n",
    "lr = .001\n",
    "dataset = \"coco\"\n",
    "threads = 3\n",
    "seed = 123\n",
    "        \n",
    "opt = store(upscale_factor, batchSize, testBatchSize, nEpochs, lr, threads, seed, dataset)\n"
   ]
  },
  {
   "cell_type": "code",
   "execution_count": 80,
   "id": "62a51204-bbe4-43a5-9dfe-ca7492f48274",
   "metadata": {},
   "outputs": [],
   "source": [
    "# if torch.cuda.is_available():\n",
    "#     device = torch.device(\"cuda\")\n",
    "# elif torch.backends.mps.is_available():\n",
    "#     device = torch.device(\"mps\")\n",
    "# else:\n",
    "#     device = torch.device(\"cpu\")\n",
    "device = torch.device(\"cpu\")\n",
    "#torch.manual_seed(seed)"
   ]
  },
  {
   "cell_type": "code",
   "execution_count": 81,
   "id": "cd7bd01e-74fc-4adb-9dba-b94f30e681c9",
   "metadata": {},
   "outputs": [
    {
     "name": "stdout",
     "output_type": "stream",
     "text": [
      "===> Loading datasets\n",
      "<super_resolution.dataset.DatasetFromFolder object at 0x7fcfe3f00ee0>\n"
     ]
    }
   ],
   "source": [
    "print('===> Loading datasets')\n",
    "train_set = get_training_set(opt.upscale_factor)\n",
    "test_set = get_test_set(opt.upscale_factor)\n",
    "training_data_loader = DataLoader(dataset=train_set, num_workers=opt.threads, batch_size=opt.batchSize, shuffle=True)\n",
    "testing_data_loader = DataLoader(dataset=test_set, num_workers=opt.threads, batch_size=opt.testBatchSize, shuffle=False)\n",
    "print(train_set)"
   ]
  },
  {
   "cell_type": "code",
   "execution_count": 82,
   "id": "768eae15-0f42-4e7f-ab2c-352bb05f7132",
   "metadata": {},
   "outputs": [
    {
     "name": "stdout",
     "output_type": "stream",
     "text": [
      "===> Building model\n"
     ]
    }
   ],
   "source": [
    "print('===> Building model')\n",
    "priors={\n",
    "    'prior_mu': 0,\n",
    "    'prior_sigma': 0.1,\n",
    "    'posterior_mu_initial': (0, 0.1),  # (mean, std) normal_\n",
    "    'posterior_rho_initial': (-5, 0.1),  # (mean, std) normal_\n",
    "}"
   ]
  },
  {
   "cell_type": "code",
   "execution_count": 83,
   "id": "79a1b576-81fc-4020-90bf-257c1fff393d",
   "metadata": {},
   "outputs": [],
   "source": [
    "def train(model, optimizer, criterion, epoch):\n",
    "    epoch_loss = 0\n",
    "    for iteration, batch in enumerate(training_data_loader, 1):\n",
    "        torch.cuda.empty_cache()\n",
    "        input, target = batch[0].to(device), batch[1].to(device)\n",
    "\n",
    "        optimizer.zero_grad()\n",
    "        kl = 0\n",
    "        if model.__class__.__name__ == 'BayesianNet':\n",
    "            output, kl = model(input)\n",
    "        else:\n",
    "            output = model(input)\n",
    "        loss = criterion(output, target)\n",
    "        epoch_loss += loss.item()\n",
    "        loss.backward()\n",
    "        optimizer.step()\n",
    "\n",
    "        print(\"===> Epoch[{}]({}/{}): Loss: {:.4f}\".format(epoch, iteration, len(training_data_loader), loss.item()))\n",
    "\n",
    "    print(\"===> Epoch {} Complete: Avg. Loss: {:.4f}\".format(epoch, epoch_loss / len(training_data_loader)))\n",
    "    return epoch, epoch_loss / len(training_data_loader)\n",
    "\n",
    "\n",
    "def test(model, criterion):\n",
    "    avg_psnr = 0\n",
    "    with torch.no_grad():\n",
    "        for batch in testing_data_loader:\n",
    "            input, target = batch[0].to(device), batch[1].to(device)\n",
    "\n",
    "            if model.__class__.__name__ == 'BayesianNet':\n",
    "                prediction, kl = model(input)\n",
    "            else:\n",
    "                prediction = model(input)\n",
    "            mse = criterion(prediction, target)\n",
    "            psnr = 10 * log10(1 / mse.item())\n",
    "            avg_psnr += psnr\n",
    "    print(\"===> Avg. PSNR: {:.4f} dB\".format(avg_psnr / len(testing_data_loader)))\n",
    "    return avg_psnr / len(testing_data_loader)\n",
    "\n",
    "\n",
    "def checkpoint(model, epoch, upscale_factor):\n",
    "    ckpt_dir = f'./super_resolution/models/{model.__class__.__name__}/{opt.dataset}'\n",
    "    model_out_path = f\"./super_resolution/models/{model.__class__.__name__}/{opt.dataset}/epoch_{epoch}_upscale_factor_{upscale_factor}_device_{str(device).split(':')[0]}.pth\"\n",
    "\n",
    "    if not os.path.exists(ckpt_dir):\n",
    "        os.makedirs(ckpt_dir, exist_ok=True)\n",
    "    \n",
    "    torch.save(model, model_out_path)\n",
    "    print(\"Checkpoint saved to {}\".format(model_out_path))"
   ]
  },
  {
   "cell_type": "code",
   "execution_count": 84,
   "id": "9bc5676d",
   "metadata": {},
   "outputs": [],
   "source": [
    "model = BayesianNet(1, upscale_factor, priors, layer_type='lrt')"
   ]
  },
  {
   "cell_type": "code",
   "execution_count": 85,
   "id": "e0d2c4be",
   "metadata": {},
   "outputs": [
    {
     "data": {
      "text/plain": [
       "layers.BBB_LRT.BBBConv.BBBConv2d"
      ]
     },
     "execution_count": 85,
     "metadata": {},
     "output_type": "execute_result"
    }
   ],
   "source": [
    "type(model.conv2)"
   ]
  },
  {
   "cell_type": "code",
   "execution_count": 86,
   "id": "3bf5e091-6af1-4e6f-93b1-5a81de09534a",
   "metadata": {},
   "outputs": [
    {
     "name": "stdout",
     "output_type": "stream",
     "text": [
      "===> Epoch[1](1/50): Loss: 4.4083\n",
      "===> Epoch[1](2/50): Loss: 1.9263\n",
      "===> Epoch[1](3/50): Loss: 2.3727\n",
      "===> Epoch[1](4/50): Loss: 1.5449\n",
      "===> Epoch[1](5/50): Loss: 1.0386\n",
      "===> Epoch[1](6/50): Loss: 0.8360\n",
      "===> Epoch[1](7/50): Loss: 0.8694\n",
      "===> Epoch[1](8/50): Loss: 0.6579\n",
      "===> Epoch[1](9/50): Loss: 0.6800\n",
      "===> Epoch[1](10/50): Loss: 0.5857\n",
      "===> Epoch[1](11/50): Loss: 0.6903\n",
      "===> Epoch[1](12/50): Loss: 0.4755\n",
      "===> Epoch[1](13/50): Loss: 0.4955\n",
      "===> Epoch[1](14/50): Loss: 0.3035\n",
      "===> Epoch[1](15/50): Loss: 0.4765\n",
      "===> Epoch[1](16/50): Loss: 0.3465\n",
      "===> Epoch[1](17/50): Loss: 0.2686\n",
      "===> Epoch[1](18/50): Loss: 0.3715\n",
      "===> Epoch[1](19/50): Loss: 0.2263\n",
      "===> Epoch[1](20/50): Loss: 0.2916\n",
      "===> Epoch[1](21/50): Loss: 0.3112\n",
      "===> Epoch[1](22/50): Loss: 0.2919\n",
      "===> Epoch[1](23/50): Loss: 0.2402\n",
      "===> Epoch[1](24/50): Loss: 0.2283\n",
      "===> Epoch[1](25/50): Loss: 0.3039\n",
      "===> Epoch[1](26/50): Loss: 0.2286\n",
      "===> Epoch[1](27/50): Loss: 0.2896\n",
      "===> Epoch[1](28/50): Loss: 0.1927\n",
      "===> Epoch[1](29/50): Loss: 0.2004\n",
      "===> Epoch[1](30/50): Loss: 0.1849\n",
      "===> Epoch[1](31/50): Loss: 0.1220\n",
      "===> Epoch[1](32/50): Loss: 0.1794\n",
      "===> Epoch[1](33/50): Loss: 0.1586\n",
      "===> Epoch[1](34/50): Loss: 0.1547\n",
      "===> Epoch[1](35/50): Loss: 0.1910\n",
      "===> Epoch[1](36/50): Loss: 0.1587\n",
      "===> Epoch[1](37/50): Loss: 0.1520\n",
      "===> Epoch[1](38/50): Loss: 0.1519\n",
      "===> Epoch[1](39/50): Loss: 0.1103\n",
      "===> Epoch[1](40/50): Loss: 0.1588\n",
      "===> Epoch[1](41/50): Loss: 0.1014\n",
      "===> Epoch[1](42/50): Loss: 0.0820\n",
      "===> Epoch[1](43/50): Loss: 0.1252\n",
      "===> Epoch[1](44/50): Loss: 0.1141\n",
      "===> Epoch[1](45/50): Loss: 0.0963\n",
      "===> Epoch[1](46/50): Loss: 0.1114\n",
      "===> Epoch[1](47/50): Loss: 0.1249\n",
      "===> Epoch[1](48/50): Loss: 0.1454\n",
      "===> Epoch[1](49/50): Loss: 0.1223\n",
      "===> Epoch[1](50/50): Loss: 0.1025\n",
      "===> Epoch 1 Complete: Avg. Loss: 0.4800\n",
      "===> Avg. PSNR: 9.3951 dB\n",
      "Checkpoint saved to ./super_resolution/models/BayesianNet/BSD300/epoch_1_upscale_factor_3_device_cpu.pth\n",
      "===> Epoch[1](1/50): Loss: 0.3160\n",
      "===> Epoch[1](2/50): Loss: 0.1302\n",
      "===> Epoch[1](3/50): Loss: 0.0449\n",
      "===> Epoch[1](4/50): Loss: 0.0276\n",
      "===> Epoch[1](5/50): Loss: 0.0392\n",
      "===> Epoch[1](6/50): Loss: 0.0443\n",
      "===> Epoch[1](7/50): Loss: 0.0305\n",
      "===> Epoch[1](8/50): Loss: 0.0215\n",
      "===> Epoch[1](9/50): Loss: 0.0280\n",
      "===> Epoch[1](10/50): Loss: 0.0135\n",
      "===> Epoch[1](11/50): Loss: 0.0263\n",
      "===> Epoch[1](12/50): Loss: 0.0214\n",
      "===> Epoch[1](13/50): Loss: 0.0295\n",
      "===> Epoch[1](14/50): Loss: 0.0241\n",
      "===> Epoch[1](15/50): Loss: 0.0289\n",
      "===> Epoch[1](16/50): Loss: 0.0192\n",
      "===> Epoch[1](17/50): Loss: 0.0163\n",
      "===> Epoch[1](18/50): Loss: 0.0172\n",
      "===> Epoch[1](19/50): Loss: 0.0135\n",
      "===> Epoch[1](20/50): Loss: 0.0229\n",
      "===> Epoch[1](21/50): Loss: 0.0228\n",
      "===> Epoch[1](22/50): Loss: 0.0150\n",
      "===> Epoch[1](23/50): Loss: 0.0138\n",
      "===> Epoch[1](24/50): Loss: 0.0166\n",
      "===> Epoch[1](25/50): Loss: 0.0138\n",
      "===> Epoch[1](26/50): Loss: 0.0167\n",
      "===> Epoch[1](27/50): Loss: 0.0129\n",
      "===> Epoch[1](28/50): Loss: 0.0071\n",
      "===> Epoch[1](29/50): Loss: 0.0088\n",
      "===> Epoch[1](30/50): Loss: 0.0145\n",
      "===> Epoch[1](31/50): Loss: 0.0145\n",
      "===> Epoch[1](32/50): Loss: 0.0105\n",
      "===> Epoch[1](33/50): Loss: 0.0109\n",
      "===> Epoch[1](34/50): Loss: 0.0179\n",
      "===> Epoch[1](35/50): Loss: 0.0136\n",
      "===> Epoch[1](36/50): Loss: 0.0130\n",
      "===> Epoch[1](37/50): Loss: 0.0063\n",
      "===> Epoch[1](38/50): Loss: 0.0065\n",
      "===> Epoch[1](39/50): Loss: 0.0126\n",
      "===> Epoch[1](40/50): Loss: 0.0077\n",
      "===> Epoch[1](41/50): Loss: 0.0081\n",
      "===> Epoch[1](42/50): Loss: 0.0080\n",
      "===> Epoch[1](43/50): Loss: 0.0066\n",
      "===> Epoch[1](44/50): Loss: 0.0107\n",
      "===> Epoch[1](45/50): Loss: 0.0112\n",
      "===> Epoch[1](46/50): Loss: 0.0064\n",
      "===> Epoch[1](47/50): Loss: 0.0053\n",
      "===> Epoch[1](48/50): Loss: 0.0078\n",
      "===> Epoch[1](49/50): Loss: 0.0060\n",
      "===> Epoch[1](50/50): Loss: 0.0082\n",
      "===> Epoch 1 Complete: Avg. Loss: 0.0250\n",
      "===> Avg. PSNR: 20.6623 dB\n",
      "Checkpoint saved to ./super_resolution/models/Net/BSD300/epoch_1_upscale_factor_3_device_cpu.pth\n"
     ]
    }
   ],
   "source": [
    "os.environ[\"KMP_DUPLICATE_LIB_OK\"]=\"TRUE\"\n",
    "\n",
    "\n",
    "for upscale_factor in [opt.upscale_factor]:\n",
    "    models = {\"Bayesian CNN\": BayesianNet(1, upscale_factor, priors, layer_type='lrt').to(device),\n",
    "        \"Classical CNN\": Net(upscale_factor=upscale_factor).to(device)\n",
    "    }\n",
    "    epochs = defaultdict(list)\n",
    "    epoch_losses = defaultdict(list)\n",
    "    avg_psnrs = defaultdict(list)\n",
    "    \n",
    "    file_name_epoch_loss = f\"upscale_{upscale_factor}__total_epocs_{opt.nEpochs}_epoch_loss\"\n",
    "    file_name_ave_psnrs = f\"upscale_{upscale_factor}__total_epocs_{opt.nEpochs}_avg_psnrs\"\n",
    "    \n",
    "    # TODO: add timestamps\n",
    "    \n",
    "    for model_name in models.keys():\n",
    "        model = models[model_name]\n",
    "\n",
    "        criterion = nn.MSELoss()\n",
    "\n",
    "        optimizer = optim.Adam(model.parameters(), lr=opt.lr)\n",
    "        \n",
    "        for epoch in range(1, opt.nEpochs + 1):\n",
    "            # TODO: for stats see train.py\n",
    "            epoch, epoch_loss = train(model, optimizer, criterion, epoch)\n",
    "            avg_psnr = test(model, criterion)\n",
    "            checkpoint(model, epoch, upscale_factor)\n",
    "            \n",
    "            epochs[model_name].append(epoch)\n",
    "            epoch_losses[model_name].append(epoch_loss)\n",
    "            avg_psnrs[model_name].append(avg_psnr)\n",
    "            \n",
    "    result_dir = f'./stats/{opt.dataset}'\n",
    "    if not os.path.exists(result_dir):\n",
    "        os.makedirs(result_dir, exist_ok=True)\n",
    "        \n",
    "    epoch_losses_df = pd.DataFrame.from_dict(epoch_losses)\n",
    "    epoch_losses_df[\"epoch\"] = epoch_losses_df.index + 1\n",
    "    avg_psnrs_df = pd.DataFrame.from_dict(avg_psnrs)\n",
    "    avg_psnrs_df[\"epoch\"] = epoch_losses_df.index + 1\n",
    "    \n",
    "    epoch_losses_df.to_csv(f\"./stats/{opt.dataset}/{file_name_epoch_loss}.csv\")\n",
    "    avg_psnrs_df.to_csv(f\"./stats/{opt.dataset}/{file_name_ave_psnrs}.csv\")\n"
   ]
  },
  {
   "cell_type": "code",
   "execution_count": 87,
   "id": "cc5d7ff7-bbc8-4b92-89d3-166b3a7d3f8f",
   "metadata": {},
   "outputs": [
    {
     "data": {
      "image/png": "[encoded data removed]",
      "text/plain": [
       "<Figure size 720x504 with 1 Axes>"
      ]
     },
     "metadata": {
      "needs_background": "light"
     },
     "output_type": "display_data"
    }
   ],
   "source": [
    "# loss plots\n",
    "plt.figure(figsize=(10, 7))\n",
    "plt.title(f\"Training Loss: Bayesian CNN vs Classical CNN\")\n",
    "\n",
    "for model_name in epochs:\n",
    "    plt.plot(epochs[model_name], epoch_losses[model_name], label=model_name)\n",
    "# plt.plot(val_loss, color='red', label='validataion loss')\n",
    "\n",
    "plt.xlabel('Epochs')\n",
    "plt.ylabel('Loss')\n",
    "plt.legend()\n",
    "plt.show()\n",
    "#plt.savefig(f'./graphs/loss_model_{model.__class__.__name__}_epochs_{opt.nEpochs}_upscale_factor_{upscale_factor}.png')"
   ]
  },
  {
   "cell_type": "code",
   "execution_count": 88,
   "id": "a8e53d67-385d-4ff3-9e66-369ed8f7feb6",
   "metadata": {},
   "outputs": [
    {
     "data": {
      "image/png": "[encoded data removed]",
      "text/plain": [
       "<Figure size 720x504 with 1 Axes>"
      ]
     },
     "metadata": {
      "needs_background": "light"
     },
     "output_type": "display_data"
    }
   ],
   "source": [
    "# loss plots\n",
    "plt.figure(figsize=(10, 7))\n",
    "plt.title(f\"Training PSNR: Bayesian CNN vs Classical CNN\")\n",
    "\n",
    "for model_name in epochs:\n",
    "    plt.plot(epochs[model_name], avg_psnrs[model_name], label=model_name)\n",
    "\n",
    "# plt.plot(val_psnr, color='blue', label='validataion PSNR dB')\n",
    "plt.xlabel('Epochs')\n",
    "plt.ylabel('PSNR (dB)')\n",
    "plt.legend()\n",
    "plt.show()    \n",
    "\n"
   ]
  }
 ],
 "metadata": {
  "kernelspec": {
   "display_name": "Python 3.9.7 ('base')",
   "language": "python",
   "name": "python3"
  },
  "language_info": {
   "codemirror_mode": {
    "name": "ipython",
    "version": 3
   },
   "file_extension": ".py",
   "mimetype": "text/x-python",
   "name": "python",
   "nbconvert_exporter": "python",
   "pygments_lexer": "ipython3",
   "version": "3.9.7"
  },
  "vscode": {
   "interpreter": {
    "hash": "0ea82884a27f5fd68f2d0e6437ecd7f7774c07b36e85e4f532cb130b6a754894"
   }
  }
 },
 "nbformat": 4,
 "nbformat_minor": 5
}
